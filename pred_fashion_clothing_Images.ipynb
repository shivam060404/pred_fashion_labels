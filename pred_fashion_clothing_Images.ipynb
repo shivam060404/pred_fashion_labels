{
  "nbformat": 4,
  "nbformat_minor": 0,
  "metadata": {
    "colab": {
      "provenance": []
    },
    "kernelspec": {
      "name": "python3",
      "display_name": "Python 3"
    },
    "language_info": {
      "name": "python"
    }
  },
  "cells": [
    {
      "cell_type": "markdown",
      "source": [
        "      *Building a Multiclass Classification Convolutional Neural Network Model*\n",
        "       **Fashion-MNIST clothing Image Classification**"
      ],
      "metadata": {
        "id": "n6FhlEKiQG2C"
      }
    },
    {
      "cell_type": "markdown",
      "source": [
        "**Importing the Libraries**"
      ],
      "metadata": {
        "id": "iSZCachKunUS"
      }
    },
    {
      "cell_type": "code",
      "execution_count": 29,
      "metadata": {
        "id": "YuwUrJvvmnn0"
      },
      "outputs": [],
      "source": [
        "import numpy as np\n",
        "import pandas as pd\n",
        "%matplotlib inline\n",
        "import matplotlib as mpl\n",
        "import matplotlib.pyplot as plt\n",
        "from matplotlib import pyplot\n"
      ]
    },
    {
      "cell_type": "code",
      "source": [
        "import tensorflow as tf\n",
        "from tensorflow import keras"
      ],
      "metadata": {
        "id": "UeH3CBmlnXnd"
      },
      "execution_count": null,
      "outputs": []
    },
    {
      "cell_type": "markdown",
      "source": [
        "**Load the fashion_mnist data**"
      ],
      "metadata": {
        "id": "ehOowM3juu4G"
      }
    },
    {
      "cell_type": "code",
      "source": [
        "fashion_mnist = keras.datasets.fashion_mnist\n",
        "(X_train_full, y_train_full), (X_test, y_test) = fashion_mnist.load_data()"
      ],
      "metadata": {
        "colab": {
          "base_uri": "https://localhost:8080/"
        },
        "id": "cHPqEjaInpA7",
        "outputId": "e507ff28-c5eb-45e0-eddb-919bbf27c266"
      },
      "execution_count": null,
      "outputs": [
        {
          "output_type": "stream",
          "name": "stdout",
          "text": [
            "Downloading data from https://storage.googleapis.com/tensorflow/tf-keras-datasets/train-labels-idx1-ubyte.gz\n",
            "29515/29515 [==============================] - 0s 0us/step\n",
            "Downloading data from https://storage.googleapis.com/tensorflow/tf-keras-datasets/train-images-idx3-ubyte.gz\n",
            "26421880/26421880 [==============================] - 0s 0us/step\n",
            "Downloading data from https://storage.googleapis.com/tensorflow/tf-keras-datasets/t10k-labels-idx1-ubyte.gz\n",
            "5148/5148 [==============================] - 0s 0us/step\n",
            "Downloading data from https://storage.googleapis.com/tensorflow/tf-keras-datasets/t10k-images-idx3-ubyte.gz\n",
            "4422102/4422102 [==============================] - 0s 0us/step\n"
          ]
        }
      ]
    },
    {
      "cell_type": "code",
      "source": [
        "class_names = [\"Tshirt/top\", \"Trouser\", \"Pullover\",\"Dress\",\"Coat\",\"Sandal\", \"Shirt\",\"Sneaker\",\"Bag\",\"Ankle boot\"]"
      ],
      "metadata": {
        "id": "R1H4B8e1oW95"
      },
      "execution_count": null,
      "outputs": []
    },
    {
      "cell_type": "markdown",
      "source": [
        "#plot first few images"
      ],
      "metadata": {
        "id": "ZLicCURUM-wU"
      }
    },
    {
      "cell_type": "code",
      "source": [
        "for i in range(9):\n",
        "  pyplot.subplot(330 + 1 + i)\n",
        "  pyplot.imshow(X_train_full[i], cmap=pyplot.get_cmap('gray'))\n",
        "pyplot.show()"
      ],
      "metadata": {
        "colab": {
          "base_uri": "https://localhost:8080/",
          "height": 433
        },
        "id": "jeErNO_INGq6",
        "outputId": "dd3318f1-3cbe-4371-ea3a-f75f688fa2fe"
      },
      "execution_count": 30,
      "outputs": [
        {
          "output_type": "display_data",
          "data": {
            "text/plain": [
              "<Figure size 640x480 with 9 Axes>"
            ],
            "image/png": "[encoded data removed]"
          },
          "metadata": {}
        }
      ]
    },
    {
      "cell_type": "markdown",
      "source": [
        "**Data Reshape**"
      ],
      "metadata": {
        "id": "GJcTvvfPuLXW"
      }
    },
    {
      "cell_type": "code",
      "source": [
        "X_train_full = X_train_full.reshape((60000,28,28,1))\n",
        "X_test = X_test.reshape((10000,28,28,1))"
      ],
      "metadata": {
        "id": "Xzd-s0f6qvWJ"
      },
      "execution_count": null,
      "outputs": []
    },
    {
      "cell_type": "markdown",
      "source": [],
      "metadata": {
        "id": "HoaXJ2ekukj8"
      }
    },
    {
      "cell_type": "markdown",
      "source": [],
      "metadata": {
        "id": "Eb-cFRyVulgP"
      }
    },
    {
      "cell_type": "markdown",
      "source": [
        "**Data Normalization**"
      ],
      "metadata": {
        "id": "sCksXhasuFrI"
      }
    },
    {
      "cell_type": "code",
      "source": [
        "X_train_norm = X_train_full/255.0\n",
        "X_test_norm = X_test/255.0"
      ],
      "metadata": {
        "id": "d3ZPT-gIruQN"
      },
      "execution_count": null,
      "outputs": []
    },
    {
      "cell_type": "markdown",
      "source": [
        " **Split the data into train/validation/test datasets**"
      ],
      "metadata": {
        "id": "b7rnEBQItXQB"
      }
    },
    {
      "cell_type": "code",
      "source": [
        "X_valid, X_train = X_train_norm[:5000], X_train_norm[5000:]\n",
        "y_valid, y_train = y_train_full[:5000], y_train_full[5000:]\n",
        "X_test = X_test_norm\n"
      ],
      "metadata": {
        "id": "jBcUQCQhtByG"
      },
      "execution_count": null,
      "outputs": []
    },
    {
      "cell_type": "markdown",
      "source": [
        "**Create the model Architecture**"
      ],
      "metadata": {
        "id": "AS1SsF49t0k5"
      }
    },
    {
      "cell_type": "code",
      "source": [
        "model = keras.models.Sequential()\n",
        "model.add(keras.layers.Conv2D(filters=32,kernel_size=(3,3),strides=1,padding='valid',activation ='relu', input_shape=(28,28,1)))\n",
        "model.add(keras.layers.MaxPooling2D(2,2))\n",
        "\n",
        "model.add(keras.layers.Flatten())\n",
        "model.add(keras.layers.Dense(300,activation='relu'))\n",
        "model.add(keras.layers.Dense(100,activation='relu'))\n",
        "model.add(keras.layers.Dense(10,activation='softmax'))"
      ],
      "metadata": {
        "id": "bRacxOIctUPt"
      },
      "execution_count": null,
      "outputs": []
    },
    {
      "cell_type": "markdown",
      "source": [
        "**Summarize the model**"
      ],
      "metadata": {
        "id": "O9SHGRnQynbG"
      }
    },
    {
      "cell_type": "code",
      "source": [
        "model.summary()"
      ],
      "metadata": {
        "colab": {
          "base_uri": "https://localhost:8080/"
        },
        "id": "N-r0ZRGbyVgD",
        "outputId": "d72f7654-e1e2-4082-d95f-01353f246a73"
      },
      "execution_count": null,
      "outputs": [
        {
          "output_type": "stream",
          "name": "stdout",
          "text": [
            "Model: \"sequential\"\n",
            "_________________________________________________________________\n",
            " Layer (type)                Output Shape              Param #   \n",
            "=================================================================\n",
            " conv2d (Conv2D)             (None, 26, 26, 32)        320       \n",
            "                                                                 \n",
            " max_pooling2d (MaxPooling2  (None, 13, 13, 32)        0         \n",
            " D)                                                              \n",
            "                                                                 \n",
            " flatten (Flatten)           (None, 5408)              0         \n",
            "                                                                 \n",
            " dense (Dense)               (None, 300)               1622700   \n",
            "                                                                 \n",
            " dense_1 (Dense)             (None, 100)               30100     \n",
            "                                                                 \n",
            " dense_2 (Dense)             (None, 10)                1010      \n",
            "                                                                 \n",
            "=================================================================\n",
            "Total params: 1654130 (6.31 MB)\n",
            "Trainable params: 1654130 (6.31 MB)\n",
            "Non-trainable params: 0 (0.00 Byte)\n",
            "_________________________________________________________________\n"
          ]
        }
      ]
    },
    {
      "cell_type": "markdown",
      "source": [
        "**Compile the model**"
      ],
      "metadata": {
        "id": "N1gA-CrAzYUD"
      }
    },
    {
      "cell_type": "code",
      "source": [
        "model.compile(loss=\"sparse_categorical_crossentropy\",optimizer=\"sgd\",metrics=[\"accuracy\"])"
      ],
      "metadata": {
        "id": "x3hXNwwvzUjE"
      },
      "execution_count": null,
      "outputs": []
    },
    {
      "cell_type": "markdown",
      "source": [
        "**Train the model**"
      ],
      "metadata": {
        "id": "HTyn3WvWzVZP"
      }
    },
    {
      "cell_type": "code",
      "source": [
        "model_history = model.fit(X_train,y_train,epochs=70,batch_size=64,validation_data=(X_valid,y_valid))"
      ],
      "metadata": {
        "colab": {
          "base_uri": "https://localhost:8080/"
        },
        "id": "YNSUw1kT0Tm_",
        "outputId": "cd6761fe-93d4-4ab5-e967-8f5460c52618"
      },
      "execution_count": null,
      "outputs": [
        {
          "output_type": "stream",
          "name": "stdout",
          "text": [
            "Epoch 1/70\n",
            "860/860 [==============================] - 40s 46ms/step - loss: 0.4292 - accuracy: 0.8456 - val_loss: 0.5176 - val_accuracy: 0.8154\n",
            "Epoch 2/70\n",
            "860/860 [==============================] - 39s 45ms/step - loss: 0.4079 - accuracy: 0.8545 - val_loss: 0.3792 - val_accuracy: 0.8682\n",
            "Epoch 3/70\n",
            "860/860 [==============================] - 39s 45ms/step - loss: 0.3894 - accuracy: 0.8606 - val_loss: 0.3785 - val_accuracy: 0.8656\n",
            "Epoch 4/70\n",
            "860/860 [==============================] - 38s 44ms/step - loss: 0.3737 - accuracy: 0.8655 - val_loss: 0.3937 - val_accuracy: 0.8642\n",
            "Epoch 5/70\n",
            "860/860 [==============================] - 38s 44ms/step - loss: 0.3591 - accuracy: 0.8704 - val_loss: 0.4830 - val_accuracy: 0.8196\n",
            "Epoch 6/70\n",
            "860/860 [==============================] - 40s 46ms/step - loss: 0.3472 - accuracy: 0.8739 - val_loss: 0.3848 - val_accuracy: 0.8558\n",
            "Epoch 7/70\n",
            "860/860 [==============================] - 40s 47ms/step - loss: 0.3378 - accuracy: 0.8787 - val_loss: 0.3308 - val_accuracy: 0.8794\n",
            "Epoch 8/70\n",
            "860/860 [==============================] - 37s 44ms/step - loss: 0.3263 - accuracy: 0.8814 - val_loss: 0.3282 - val_accuracy: 0.8816\n",
            "Epoch 9/70\n",
            "860/860 [==============================] - 38s 44ms/step - loss: 0.3156 - accuracy: 0.8861 - val_loss: 0.3386 - val_accuracy: 0.8786\n",
            "Epoch 10/70\n",
            "860/860 [==============================] - 39s 45ms/step - loss: 0.3081 - accuracy: 0.8882 - val_loss: 0.3181 - val_accuracy: 0.8850\n",
            "Epoch 11/70\n",
            "860/860 [==============================] - 39s 45ms/step - loss: 0.2995 - accuracy: 0.8916 - val_loss: 0.3182 - val_accuracy: 0.8852\n",
            "Epoch 12/70\n",
            "860/860 [==============================] - 39s 46ms/step - loss: 0.2918 - accuracy: 0.8934 - val_loss: 0.3006 - val_accuracy: 0.8928\n",
            "Epoch 13/70\n",
            "860/860 [==============================] - 41s 47ms/step - loss: 0.2848 - accuracy: 0.8963 - val_loss: 0.3103 - val_accuracy: 0.8886\n",
            "Epoch 14/70\n",
            "860/860 [==============================] - 38s 45ms/step - loss: 0.2790 - accuracy: 0.8977 - val_loss: 0.3077 - val_accuracy: 0.8900\n",
            "Epoch 15/70\n",
            "860/860 [==============================] - 39s 46ms/step - loss: 0.2728 - accuracy: 0.9009 - val_loss: 0.3004 - val_accuracy: 0.8952\n",
            "Epoch 16/70\n",
            "860/860 [==============================] - 37s 43ms/step - loss: 0.2671 - accuracy: 0.9021 - val_loss: 0.3280 - val_accuracy: 0.8822\n",
            "Epoch 17/70\n",
            "860/860 [==============================] - 39s 45ms/step - loss: 0.2605 - accuracy: 0.9051 - val_loss: 0.3402 - val_accuracy: 0.8800\n",
            "Epoch 18/70\n",
            "860/860 [==============================] - 40s 47ms/step - loss: 0.2548 - accuracy: 0.9069 - val_loss: 0.3076 - val_accuracy: 0.8870\n",
            "Epoch 19/70\n",
            "860/860 [==============================] - 38s 45ms/step - loss: 0.2492 - accuracy: 0.9091 - val_loss: 0.2837 - val_accuracy: 0.8988\n",
            "Epoch 20/70\n",
            "860/860 [==============================] - 39s 45ms/step - loss: 0.2449 - accuracy: 0.9111 - val_loss: 0.2763 - val_accuracy: 0.9008\n",
            "Epoch 21/70\n",
            "860/860 [==============================] - 39s 45ms/step - loss: 0.2406 - accuracy: 0.9123 - val_loss: 0.2926 - val_accuracy: 0.8946\n",
            "Epoch 22/70\n",
            "860/860 [==============================] - 39s 45ms/step - loss: 0.2354 - accuracy: 0.9134 - val_loss: 0.2759 - val_accuracy: 0.8992\n",
            "Epoch 23/70\n",
            "860/860 [==============================] - 39s 45ms/step - loss: 0.2305 - accuracy: 0.9158 - val_loss: 0.3918 - val_accuracy: 0.8530\n",
            "Epoch 24/70\n",
            "860/860 [==============================] - 40s 47ms/step - loss: 0.2263 - accuracy: 0.9170 - val_loss: 0.2773 - val_accuracy: 0.9022\n",
            "Epoch 25/70\n",
            "860/860 [==============================] - 38s 45ms/step - loss: 0.2212 - accuracy: 0.9193 - val_loss: 0.2640 - val_accuracy: 0.9010\n",
            "Epoch 26/70\n",
            "860/860 [==============================] - 37s 43ms/step - loss: 0.2173 - accuracy: 0.9212 - val_loss: 0.2947 - val_accuracy: 0.8912\n",
            "Epoch 27/70\n",
            "860/860 [==============================] - 38s 45ms/step - loss: 0.2127 - accuracy: 0.9225 - val_loss: 0.2698 - val_accuracy: 0.9024\n",
            "Epoch 28/70\n",
            "860/860 [==============================] - 39s 45ms/step - loss: 0.2082 - accuracy: 0.9240 - val_loss: 0.2687 - val_accuracy: 0.9028\n",
            "Epoch 29/70\n",
            "860/860 [==============================] - 39s 45ms/step - loss: 0.2055 - accuracy: 0.9242 - val_loss: 0.2889 - val_accuracy: 0.8934\n",
            "Epoch 30/70\n",
            "860/860 [==============================] - 40s 46ms/step - loss: 0.2005 - accuracy: 0.9272 - val_loss: 0.2643 - val_accuracy: 0.9062\n",
            "Epoch 31/70\n",
            "860/860 [==============================] - 38s 45ms/step - loss: 0.1970 - accuracy: 0.9281 - val_loss: 0.2616 - val_accuracy: 0.9054\n",
            "Epoch 32/70\n",
            "860/860 [==============================] - 40s 46ms/step - loss: 0.1927 - accuracy: 0.9309 - val_loss: 0.2810 - val_accuracy: 0.8998\n",
            "Epoch 33/70\n",
            "860/860 [==============================] - 39s 45ms/step - loss: 0.1885 - accuracy: 0.9312 - val_loss: 0.2601 - val_accuracy: 0.9044\n",
            "Epoch 34/70\n",
            "860/860 [==============================] - 37s 43ms/step - loss: 0.1860 - accuracy: 0.9327 - val_loss: 0.2799 - val_accuracy: 0.9002\n",
            "Epoch 35/70\n",
            "860/860 [==============================] - 38s 44ms/step - loss: 0.1820 - accuracy: 0.9339 - val_loss: 0.2649 - val_accuracy: 0.9060\n",
            "Epoch 36/70\n",
            "860/860 [==============================] - 40s 46ms/step - loss: 0.1783 - accuracy: 0.9354 - val_loss: 0.2477 - val_accuracy: 0.9094\n",
            "Epoch 37/70\n",
            "860/860 [==============================] - 39s 45ms/step - loss: 0.1756 - accuracy: 0.9357 - val_loss: 0.2566 - val_accuracy: 0.9080\n",
            "Epoch 38/70\n",
            "860/860 [==============================] - 39s 45ms/step - loss: 0.1715 - accuracy: 0.9380 - val_loss: 0.2514 - val_accuracy: 0.9100\n",
            "Epoch 39/70\n",
            "860/860 [==============================] - 39s 45ms/step - loss: 0.1676 - accuracy: 0.9390 - val_loss: 0.2528 - val_accuracy: 0.9064\n",
            "Epoch 40/70\n",
            "860/860 [==============================] - 39s 46ms/step - loss: 0.1638 - accuracy: 0.9413 - val_loss: 0.2511 - val_accuracy: 0.9088\n",
            "Epoch 41/70\n",
            "860/860 [==============================] - 40s 47ms/step - loss: 0.1606 - accuracy: 0.9419 - val_loss: 0.2495 - val_accuracy: 0.9108\n",
            "Epoch 42/70\n",
            "860/860 [==============================] - 39s 45ms/step - loss: 0.1575 - accuracy: 0.9436 - val_loss: 0.2478 - val_accuracy: 0.9080\n",
            "Epoch 43/70\n",
            "860/860 [==============================] - 39s 45ms/step - loss: 0.1546 - accuracy: 0.9436 - val_loss: 0.2915 - val_accuracy: 0.9000\n",
            "Epoch 44/70\n",
            "860/860 [==============================] - 40s 46ms/step - loss: 0.1505 - accuracy: 0.9465 - val_loss: 0.2596 - val_accuracy: 0.9074\n",
            "Epoch 45/70\n",
            "860/860 [==============================] - 38s 45ms/step - loss: 0.1478 - accuracy: 0.9468 - val_loss: 0.3092 - val_accuracy: 0.8894\n",
            "Epoch 46/70\n",
            "860/860 [==============================] - 38s 44ms/step - loss: 0.1444 - accuracy: 0.9490 - val_loss: 0.2731 - val_accuracy: 0.9038\n",
            "Epoch 47/70\n",
            "860/860 [==============================] - 40s 47ms/step - loss: 0.1399 - accuracy: 0.9502 - val_loss: 0.2439 - val_accuracy: 0.9130\n",
            "Epoch 48/70\n",
            "860/860 [==============================] - 39s 45ms/step - loss: 0.1374 - accuracy: 0.9513 - val_loss: 0.2837 - val_accuracy: 0.9010\n",
            "Epoch 49/70\n",
            "860/860 [==============================] - 39s 45ms/step - loss: 0.1352 - accuracy: 0.9516 - val_loss: 0.2481 - val_accuracy: 0.9128\n",
            "Epoch 50/70\n",
            "860/860 [==============================] - 39s 45ms/step - loss: 0.1312 - accuracy: 0.9535 - val_loss: 0.2975 - val_accuracy: 0.9002\n",
            "Epoch 51/70\n",
            "860/860 [==============================] - 39s 45ms/step - loss: 0.1287 - accuracy: 0.9543 - val_loss: 0.2439 - val_accuracy: 0.9168\n",
            "Epoch 52/70\n",
            "860/860 [==============================] - 41s 48ms/step - loss: 0.1247 - accuracy: 0.9558 - val_loss: 0.2538 - val_accuracy: 0.9092\n",
            "Epoch 53/70\n",
            "860/860 [==============================] - 41s 48ms/step - loss: 0.1215 - accuracy: 0.9572 - val_loss: 0.2578 - val_accuracy: 0.9098\n",
            "Epoch 54/70\n",
            "860/860 [==============================] - 39s 45ms/step - loss: 0.1188 - accuracy: 0.9578 - val_loss: 0.2630 - val_accuracy: 0.9124\n",
            "Epoch 55/70\n",
            "860/860 [==============================] - 39s 45ms/step - loss: 0.1155 - accuracy: 0.9603 - val_loss: 0.2470 - val_accuracy: 0.9146\n",
            "Epoch 56/70\n",
            "860/860 [==============================] - 39s 45ms/step - loss: 0.1135 - accuracy: 0.9608 - val_loss: 0.2577 - val_accuracy: 0.9110\n",
            "Epoch 57/70\n",
            "860/860 [==============================] - 39s 46ms/step - loss: 0.1098 - accuracy: 0.9620 - val_loss: 0.2486 - val_accuracy: 0.9160\n",
            "Epoch 58/70\n",
            "860/860 [==============================] - 40s 47ms/step - loss: 0.1060 - accuracy: 0.9635 - val_loss: 0.2700 - val_accuracy: 0.9110\n",
            "Epoch 59/70\n",
            "860/860 [==============================] - 39s 46ms/step - loss: 0.1038 - accuracy: 0.9642 - val_loss: 0.2865 - val_accuracy: 0.9054\n",
            "Epoch 60/70\n",
            "860/860 [==============================] - 39s 45ms/step - loss: 0.1011 - accuracy: 0.9647 - val_loss: 0.2656 - val_accuracy: 0.9150\n",
            "Epoch 61/70\n",
            "860/860 [==============================] - 39s 45ms/step - loss: 0.0978 - accuracy: 0.9671 - val_loss: 0.3524 - val_accuracy: 0.8936\n",
            "Epoch 62/70\n",
            "860/860 [==============================] - 39s 45ms/step - loss: 0.0957 - accuracy: 0.9682 - val_loss: 0.2879 - val_accuracy: 0.9094\n",
            "Epoch 63/70\n",
            "860/860 [==============================] - 37s 44ms/step - loss: 0.0928 - accuracy: 0.9690 - val_loss: 0.3192 - val_accuracy: 0.8986\n",
            "Epoch 64/70\n",
            "860/860 [==============================] - 42s 48ms/step - loss: 0.0912 - accuracy: 0.9691 - val_loss: 0.2553 - val_accuracy: 0.9166\n",
            "Epoch 65/70\n",
            "860/860 [==============================] - 37s 44ms/step - loss: 0.0887 - accuracy: 0.9707 - val_loss: 0.2613 - val_accuracy: 0.9174\n",
            "Epoch 66/70\n",
            "860/860 [==============================] - 38s 44ms/step - loss: 0.0851 - accuracy: 0.9719 - val_loss: 0.2768 - val_accuracy: 0.9130\n",
            "Epoch 67/70\n",
            "860/860 [==============================] - 39s 45ms/step - loss: 0.0826 - accuracy: 0.9724 - val_loss: 0.2701 - val_accuracy: 0.9156\n",
            "Epoch 68/70\n",
            "860/860 [==============================] - 39s 45ms/step - loss: 0.0799 - accuracy: 0.9738 - val_loss: 0.2634 - val_accuracy: 0.9146\n",
            "Epoch 69/70\n",
            "860/860 [==============================] - 39s 45ms/step - loss: 0.0782 - accuracy: 0.9742 - val_loss: 0.3890 - val_accuracy: 0.8818\n",
            "Epoch 70/70\n",
            "860/860 [==============================] - 40s 46ms/step - loss: 0.0752 - accuracy: 0.9750 - val_loss: 0.2637 - val_accuracy: 0.9160\n"
          ]
        }
      ]
    },
    {
      "cell_type": "markdown",
      "source": [
        "**Evaluate a trained neural network**"
      ],
      "metadata": {
        "id": "zSZLc0eFAWCr"
      }
    },
    {
      "cell_type": "code",
      "source": [
        "score=model.evaluate(X_test_norm,y_test)\n",
        "print('Test Score',score[0])\n",
        "print('Test Accuracy',score[1])"
      ],
      "metadata": {
        "colab": {
          "base_uri": "https://localhost:8080/"
        },
        "id": "amxXUXa6AtY0",
        "outputId": "16aa4cfd-b4d7-4e3b-deae-4de58d105f1f"
      },
      "execution_count": null,
      "outputs": [
        {
          "output_type": "stream",
          "name": "stdout",
          "text": [
            "313/313 [==============================] - 3s 9ms/step - loss: 0.2779 - accuracy: 0.9131\n",
            "Test Score 0.27788764238357544\n",
            "Test Accuracy 0.913100004196167\n"
          ]
        }
      ]
    },
    {
      "cell_type": "markdown",
      "source": [
        "**Plot training accuracy  and loss and validation accuracy and loss"
      ],
      "metadata": {
        "id": "RU0CxMZkBW1-"
      }
    },
    {
      "cell_type": "code",
      "source": [
        "pd.DataFrame(model_history.history).plot(figsize=(8,5))\n",
        "plt.grid(True)\n",
        "plt.gca().set_ylim(0,1)\n",
        "plt.show()\n"
      ],
      "metadata": {
        "colab": {
          "base_uri": "https://localhost:8080/",
          "height": 451
        },
        "id": "IyGGrZ2-D8az",
        "outputId": "54302bb8-cfb2-4124-c398-3e64f70e821d"
      },
      "execution_count": null,
      "outputs": [
        {
          "output_type": "display_data",
          "data": {
            "text/plain": [
              "<Figure size 800x500 with 1 Axes>"
            ],
            "image/png": "[encoded data removed]"
          },
          "metadata": {}
        }
      ]
    },
    {
      "cell_type": "markdown",
      "source": [
        "**Inference or Predictions using a trained convolutional neural network**"
      ],
      "metadata": {
        "id": "rO6wFxyfKnZ6"
      }
    },
    {
      "cell_type": "code",
      "source": [
        "y_test[:10]\n"
      ],
      "metadata": {
        "id": "ixxboAr8FJe-",
        "colab": {
          "base_uri": "https://localhost:8080/"
        },
        "outputId": "4f6963c7-501e-49a3-ceef-e9f19a32341d"
      },
      "execution_count": 24,
      "outputs": [
        {
          "output_type": "execute_result",
          "data": {
            "text/plain": [
              "array([9, 2, 1, 1, 6, 1, 4, 6, 5, 7], dtype=uint8)"
            ]
          },
          "metadata": {},
          "execution_count": 24
        }
      ]
    },
    {
      "cell_type": "code",
      "source": [
        "y_pred = model.predict(X_test)\n",
        "y_pred[:10]"
      ],
      "metadata": {
        "colab": {
          "base_uri": "https://localhost:8080/"
        },
        "id": "UTisAKvvKKOI",
        "outputId": "62986b2e-a6fe-4dd7-a496-fa752bac76e3"
      },
      "execution_count": 25,
      "outputs": [
        {
          "output_type": "stream",
          "name": "stdout",
          "text": [
            "313/313 [==============================] - 4s 13ms/step\n"
          ]
        },
        {
          "output_type": "execute_result",
          "data": {
            "text/plain": [
              "array([[1.65973131e-06, 2.73261875e-08, 3.68359366e-07, 2.53792987e-08,\n",
              "        1.26557795e-08, 5.85241469e-06, 6.94542805e-08, 1.52521374e-04,\n",
              "        1.28403226e-05, 9.99826670e-01],\n",
              "       [3.62675593e-07, 2.23733944e-14, 9.99996722e-01, 7.43976929e-12,\n",
              "        2.32731327e-06, 4.89905900e-15, 4.29733149e-07, 1.37329783e-16,\n",
              "        5.28699162e-15, 7.66174759e-15],\n",
              "       [2.41885696e-11, 9.99999940e-01, 7.52365878e-12, 2.93062852e-10,\n",
              "        5.25730970e-09, 7.29980258e-13, 5.90937629e-12, 4.32993431e-13,\n",
              "        1.00063859e-12, 8.82023675e-13],\n",
              "       [2.71698831e-12, 9.99999344e-01, 2.91949451e-11, 5.65164441e-07,\n",
              "        7.50799778e-09, 8.17666941e-12, 7.74020570e-11, 7.99636832e-13,\n",
              "        1.91362375e-13, 2.12846910e-11],\n",
              "       [7.75727443e-04, 2.31928338e-10, 5.07157210e-06, 1.15141972e-07,\n",
              "        3.35966206e-07, 1.27204594e-10, 9.99218762e-01, 4.14456316e-11,\n",
              "        1.98192351e-10, 4.47753952e-11],\n",
              "       [2.91511970e-09, 9.99999702e-01, 5.02506037e-10, 1.27007027e-08,\n",
              "        1.44224288e-07, 9.48992412e-11, 9.52324726e-08, 4.32380770e-10,\n",
              "        1.20420028e-11, 2.97612824e-12],\n",
              "       [2.78284673e-10, 4.00335681e-10, 4.32137967e-05, 1.09804223e-11,\n",
              "        9.99956071e-01, 1.60740702e-12, 6.79214622e-07, 9.19906368e-17,\n",
              "        8.93607887e-13, 1.95114489e-16],\n",
              "       [4.53325780e-11, 8.70683942e-11, 1.34497384e-06, 1.62385035e-07,\n",
              "        5.24326577e-04, 4.68836601e-12, 9.99474108e-01, 5.57020047e-14,\n",
              "        3.64195146e-10, 6.65691406e-13],\n",
              "       [3.50027294e-05, 5.46841477e-07, 1.24183998e-06, 1.06403653e-09,\n",
              "        7.29974525e-09, 9.99955714e-01, 1.71645154e-09, 5.22950359e-06,\n",
              "        2.18990613e-06, 1.69377079e-09],\n",
              "       [6.54904220e-09, 5.05262332e-10, 2.33198172e-09, 3.11054377e-11,\n",
              "        2.32745143e-11, 3.76959086e-08, 2.08305845e-10, 9.99997556e-01,\n",
              "        2.35462767e-06, 6.41452900e-08]], dtype=float32)"
            ]
          },
          "metadata": {},
          "execution_count": 25
        }
      ]
    },
    {
      "cell_type": "code",
      "source": [
        "y_pred = np.array([np.argmax(pred) for pred in y_pred])\n",
        "y_pred[:10],y_test[:10]"
      ],
      "metadata": {
        "colab": {
          "base_uri": "https://localhost:8080/"
        },
        "id": "Nrd9WnLGLFfq",
        "outputId": "2acc9de4-eddf-4ab8-862f-3782f51311e4"
      },
      "execution_count": 27,
      "outputs": [
        {
          "output_type": "execute_result",
          "data": {
            "text/plain": [
              "(array([9, 2, 1, 1, 6, 1, 4, 6, 5, 7]),\n",
              " array([9, 2, 1, 1, 6, 1, 4, 6, 5, 7], dtype=uint8))"
            ]
          },
          "metadata": {},
          "execution_count": 27
        }
      ]
    }
  ]
}